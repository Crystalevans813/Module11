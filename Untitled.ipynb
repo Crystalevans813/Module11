{
 "cells": [
  {
   "cell_type": "code",
   "execution_count": null,
   "id": "3e6dab52-4973-4580-a303-a6f9860df14c",
   "metadata": {},
   "outputs": [],
   "source": [
    "# Import the required libraries\n",
    "import pandas as pd\n",
    "from pathlib import Path\n",
    "import hvplot.pandas"
   ]
  },
  {
   "cell_type": "code",
   "execution_count": null,
   "id": "2bc7ebf4-89cf-4d7c-a24b-1835650ed547",
   "metadata": {},
   "outputs": [],
   "source": [
    "math_standards_df = pd.read_csv(\n",
    "    Path('../Resources/math_standards.csv')\n",
    "\n",
    "math_standards_df.head()"
   ]
  },
  {
   "cell_type": "code",
   "execution_count": null,
   "id": "06a35da8-a74c-4dfa-b5fd-c1b85e81ffec",
   "metadata": {},
   "outputs": [],
   "source": [
    "math_standards_df = pd.read_csv(\n",
    "    Path(\"../Resources/math_standards.csv\"),\n",
    "    index_col=\"name\",\n",
    "    parse_dates=True,\n",
    "    infer_datetime_format=True)\n",
    "\n",
    "# Viewing the DataFrame via hvplot \n",
    "math_standards_df.hvplot.points(\n",
    "    X='X',\n",
    "    Y='Y',\n",
    "    geo=True,\n",
    "    size='Philadelphia School District',\n",
    "    scale=1,\n",
    "    color= 'amenity',\n",
    "    tiles='OSM',\n",
    "    frame_width=700,\n",
    "    frame_height=500,\n",
    "    title='Philadelphia School District',\n",
    "    ) \n"
   ]
  },
  {
   "cell_type": "code",
   "execution_count": null,
   "id": "0a042383-136c-4bc8-b832-557956184e9a",
   "metadata": {},
   "outputs": [],
   "source": []
  }
 ],
 "metadata": {
  "kernelspec": {
   "display_name": "Python 3 (ipykernel)",
   "language": "python",
   "name": "python3"
  },
  "language_info": {
   "codemirror_mode": {
    "name": "ipython",
    "version": 3
   },
   "file_extension": ".py",
   "mimetype": "text/x-python",
   "name": "python",
   "nbconvert_exporter": "python",
   "pygments_lexer": "ipython3",
   "version": "3.7.13"
  }
 },
 "nbformat": 4,
 "nbformat_minor": 5
}
